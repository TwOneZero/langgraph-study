{
  "cells": [
    {
      "cell_type": "markdown",
      "metadata": {},
      "source": [
        "# 2.2 간단한 Retrieval 에이전트 (feat. PDF 전처리 꿀팁)"
      ]
    },
    {
      "cell_type": "markdown",
      "metadata": {},
      "source": [
        "- RAG 에이전트를 만들어봅니다\n",
        "- [zerox](https://zerox.ai/)를 통해 PDF 파일을 전처리하는 방법을 알아봅니다\n"
      ]
    },
    {
      "cell_type": "markdown",
      "metadata": {},
      "source": [
        "## 환경설정\n",
        "\n",
        "- RAG 파이프라인을 위해 필요한 패키지들을 설치합니다\n",
        "- 최신 버전을 설치해도 정상적으로 동작해야 하지만, 버전 명시가 필요하다면 `requirements.txt`를 참고해주세요"
      ]
    },
    {
      "cell_type": "markdown",
      "metadata": {},
      "source": [
        "`uv add pypdf langchain-community langchain-text-splitters`"
      ]
    },
    {
      "cell_type": "markdown",
      "metadata": {},
      "source": [
        "- `PyPDFLoader`를 사용해 전처리된 데이터를 확인합니다"
      ]
    },
    {
      "cell_type": "code",
      "execution_count": 1,
      "metadata": {},
      "outputs": [],
      "source": [
        "from langchain_community.document_loaders import PyPDFLoader\n",
        "\n",
        "pdf_file_path = 'income_tax.pdf'\n",
        "loader = PyPDFLoader(pdf_file_path)\n",
        "pages = []\n",
        "async for page in loader.alazy_load():\n",
        "    pages.append(page)"
      ]
    },
    {
      "cell_type": "code",
      "execution_count": 2,
      "metadata": {},
      "outputs": [
        {
          "data": {
            "text/plain": [
              "Document(metadata={'producer': 'iText 2.1.7 by 1T3XT', 'creator': 'PyPDF', 'creationdate': '2025-07-02T14:05:57+09:00', 'moddate': '2025-07-02T14:05:57+09:00', 'source': 'income_tax.pdf', 'total_pages': 130, 'page': 35, 'page_label': '36'}, page_content='법제처                                                            36                                                       국가법령정보센터\\n소득세법\\n[본조신설 2022. 12. 31.]\\n \\n제58조(재해손실세액공제) ① 사업자가 해당 과세기간에 천재지변이나 그 밖의 재해(이하 “재해”라 한다)로 대통령령으\\n로 정하는 자산총액(이하 이 항에서 “자산총액”이라 한다)의 100분의 20 이상에 해당하는 자산을 상실하여 납세가\\n곤란하다고 인정되는 경우에는 다음 각 호의 소득세액(사업소득에 대한 소득세액을 말한다. 이하 이 조에서 같다)에\\n그 상실된 가액이 상실 전의 자산총액에서 차지하는 비율(이하 이 조에서 “자산상실비율”이라 한다)을 곱하여 계산\\n한 금액(상실된 자산의 가액을 한도로 한다)을 그 세액에서 공제한다. 이 경우 자산의 가액에는 토지의 가액을 포함\\n하지 아니한다. <개정 2020. 12. 29.>\\n1. 재해 발생일 현재 부과되지 아니한 소득세와 부과된 소득세로서 미납된 소득세액\\n2. 재해 발생일이 속하는 과세기간의 소득에 대한 소득세액\\n② 제1항의 경우에 제56조, 제56조의2, 제57조 및 제57조의2에 따라 공제할 세액이 있을 때에는 이를 공제한 후의\\n세액을 소득세액으로 하여 제1항을 적용한다.<개정 2022. 12. 31.>\\n③ 제1항에 따른 공제를 “재해손실세액공제”라 한다.\\n④ 재해손실세액공제를 적용받으려는 자는 대통령령으로 정하는 바에 따라 관할 세무서장에게 신청할 수 있다.\\n⑤ 관할 세무서장이 제4항의 신청을 받았을 때에는 그 공제할 세액을 결정하여 신청인에게 알려야 한다.\\n⑥ 제4항의 신청이 없는 경우에도 제1항을 적용한다.\\n⑦ 집단적으로 재해가 발생한 경우에는 대통령령으로 정하는 바에 따라 관할 세무서장이 조사결정한 자산상실비율\\n에 따라 제1항을 적용한다.\\n⑧ 재해손실세액공제에 관하여 필요한 사항은 대통령령으로 정한다.\\n[전문개정 2009. 12. 31.]\\n \\n제59조(근로소득세액공제) ①근로소득이 있는 거주자에 대해서는 그 근로소득에 대한 종합소득산출세액에서 다음의\\n금액을 공제한다. <개정 2014. 1. 1., 2015. 5. 13.>\\n② 제1항에도 불구하고 공제세액이 다음 각 호의 구분에 따른 금액을 초과하는 경우에 그 초과하는 금액은 없는 것\\n으로 한다.<신설 2014. 1. 1., 2015. 5. 13., 2022. 12. 31.>\\n1. 총급여액이 3천 300만원 이하인 경우: 74만원\\n2. 총급여액이 3천 300만원 초과 7천만원 이하인 경우: 74만원 - [(총급여액 - 3천 300만원) × 8/1000]. 다만, 위 금\\n액이 66만원보다 적은 경우에는 66만원으로 한다.\\n3. 총급여액이 7천만원 초과 1억2천만원 이하인 경우: 66만원 - [(총급여액 - 7천만원) × 1/2]. 다만, 위 금액이 50만\\n원보다 적은 경우에는 50만원으로 한다.\\n4. 총급여액이 1억2천만원을 초과하는 경우: 50만원 - [(총급여액 - 1억2천만원) × 1/2]. 다만, 위 금액이 20만원보다\\n적은 경우에는 20만원으로 한다.\\n③ 일용근로자의 근로소득에 대해서 제134조제3항에 따른 원천징수를 하는 경우에는 해당 근로소득에 대한 산출세\\n액의 100분의 55에 해당하는 금액을 그 산출세액에서 공제한다.<개정 2014. 1. 1.>\\n[전문개정 2012. 1. 1.]\\n \\n제59조의2(자녀세액공제) ①종합소득이 있는 거주자의 기본공제대상자에 해당하는 자녀(입양자 및 위탁아동을 포함하\\n며, 이하 이 조에서 “공제대상자녀”라 한다) 및 손자녀로서 8세 이상의 사람에 대해서는 다음 각 호의 구분에 따른 금\\n액을 종합소득산출세액에서 공제한다. <개정 2015. 5. 13., 2017. 12. 19., 2018. 12. 31., 2019. 12. 31., 2022. 12. 31.,\\n2023. 12. 31., 2024. 12. 31.>')"
            ]
          },
          "execution_count": 2,
          "metadata": {},
          "output_type": "execute_result"
        }
      ],
      "source": [
        "pages[35]"
      ]
    },
    {
      "cell_type": "markdown",
      "metadata": {},
      "source": [
        "- 데이터 전처리를 위한 [py-zerox](https://www.piwheels.org/project/py-zerox/) 패키지를 설치합니다"
      ]
    },
    {
      "cell_type": "code",
      "execution_count": null,
      "metadata": {},
      "outputs": [],
      "source": [
        "%pip install py-zerox"
      ]
    },
    {
      "cell_type": "code",
      "execution_count": 3,
      "metadata": {},
      "outputs": [
        {
          "data": {
            "text/plain": [
              "True"
            ]
          },
          "execution_count": 3,
          "metadata": {},
          "output_type": "execute_result"
        }
      ],
      "source": [
        "from dotenv import load_dotenv\n",
        "\n",
        "load_dotenv()"
      ]
    },
    {
      "cell_type": "markdown",
      "metadata": {},
      "source": [
        "- 노트북에서 `asyncio`를 사용하기 위해 `nest_asyncio`를 설치합니다"
      ]
    },
    {
      "cell_type": "code",
      "execution_count": 6,
      "metadata": {},
      "outputs": [
        {
          "name": "stdout",
          "output_type": "stream",
          "text": [
            "\n",
            "\u001b[1m[\u001b[0m\u001b[34;49mnotice\u001b[0m\u001b[1;39;49m]\u001b[0m\u001b[39;49m A new release of pip is available: \u001b[0m\u001b[31;49m24.0\u001b[0m\u001b[39;49m -> \u001b[0m\u001b[32;49m24.3.1\u001b[0m\n",
            "\u001b[1m[\u001b[0m\u001b[34;49mnotice\u001b[0m\u001b[1;39;49m]\u001b[0m\u001b[39;49m To update, run: \u001b[0m\u001b[32;49mpip install --upgrade pip\u001b[0m\n",
            "Note: you may need to restart the kernel to use updated packages.\n"
          ]
        }
      ],
      "source": [
        "%pip install -q nest_asyncio"
      ]
    },
    {
      "cell_type": "code",
      "execution_count": 7,
      "metadata": {},
      "outputs": [],
      "source": [
        "import nest_asyncio\n",
        "nest_asyncio.apply()"
      ]
    },
    {
      "cell_type": "markdown",
      "metadata": {},
      "source": [
        "- `py-zerox`를 통해 pdf파일을 전처리합니다\n",
        "- 강의에서는 `OpenAI`를 사용하지만, 아래 예제는 `AzureOpenAI`를 사용합니다"
      ]
    },
    {
      "cell_type": "code",
      "execution_count": null,
      "metadata": {},
      "outputs": [],
      "source": [
        "# from pyzerox import zerox\n",
        "# import os\n",
        "# import json\n",
        "# import asyncio\n",
        "\n",
        "# ### 모델 설정 (Vision 모델만 사용) 참고: https://docs.litellm.ai/docs/providers ###\n",
        "\n",
        "# ## 일부 모델에 필요할 수 있는 추가 모델 kwargs의 자리 표시자\n",
        "# kwargs = {}\n",
        "\n",
        "# ## Vision 모델에 사용할 시스템 프롬프트\n",
        "# custom_system_prompt = None\n",
        "\n",
        "# model = \"azure/gpt-4o-2024-11-20\" \n",
        "# os.environ[\"AZURE_API_KEY\"] = os.getenv(\"AZURE_OPENAI_API_KEY\")\n",
        "# os.environ[\"AZURE_API_BASE\"] = os.getenv(\"AZURE_OPENAI_ENDPOINT\")\n",
        "# os.environ[\"AZURE_API_VERSION\"] = \"2024-08-01-preview\" # \"2023-05-15\"\n",
        "\n",
        "# # 메인 비동기 진입점을 정의합니다\n",
        "# async def main():\n",
        "#     file_path = \"./documents/income_tax.pdf\" ## 로컬 파일 경로 및 파일 URL 지원\n",
        "\n",
        "#     ## 일부 페이지 또는 전체 페이지를 처리\n",
        "#     select_pages = None ## 전체는 None, 특정 페이지는 int 또는 list(int) 페이지 번호 (1부터 시작)\n",
        "\n",
        "#     output_dir = \"./documents\" ## 통합된 마크다운 파일을 저장할 디렉토리\n",
        "#     result = await zerox(file_path=file_path, model=model, output_dir=output_dir,\n",
        "#                         custom_system_prompt=custom_system_prompt, select_pages=select_pages, **kwargs)\n",
        "#     return result\n",
        "\n",
        "\n",
        "# # 메인 함수를 실행합니다:\n",
        "# result = asyncio.run(main())\n",
        "\n",
        "# # 마크다운 결과를 출력합니다\n",
        "# print(result)"
      ]
    },
    {
      "cell_type": "markdown",
      "metadata": {},
      "source": [
        "- zerox를 활용한 전처리 후 생성된 마크다운 파일을 LangGraph에서 활용하기 위해 [unstructured](https://unstructured.io/) 패키지를 설치합니다\n",
        "- `UnstructuredMarkdownLoader`를 사용해 전처리된 데이터를 확인합니다\n",
        "    - `loader`활용 시 테이블 구조가 사라지는 것을 확인할 수 있습니다"
      ]
    },
    {
      "cell_type": "code",
      "execution_count": 1,
      "metadata": {},
      "outputs": [
        {
          "name": "stdout",
          "output_type": "stream",
          "text": [
            "Note: you may need to restart the kernel to use updated packages.\n"
          ]
        },
        {
          "name": "stderr",
          "output_type": "stream",
          "text": [
            "\n",
            "[notice] A new release of pip is available: 24.0 -> 25.1.1\n",
            "[notice] To update, run: python.exe -m pip install --upgrade pip\n"
          ]
        }
      ],
      "source": [
        "%pip install -q \"unstructured[md]\" nltk"
      ]
    },
    {
      "cell_type": "code",
      "execution_count": 1,
      "metadata": {},
      "outputs": [],
      "source": [
        "from langchain_text_splitters import RecursiveCharacterTextSplitter\n",
        "\n",
        "text_splitter = RecursiveCharacterTextSplitter(\n",
        "    chunk_size = 1500,\n",
        "    chunk_overlap = 100,\n",
        "    separators=['\\n\\n', '\\n']\n",
        ")"
      ]
    },
    {
      "cell_type": "code",
      "execution_count": 2,
      "metadata": {},
      "outputs": [],
      "source": [
        "from langchain_community.document_loaders import UnstructuredMarkdownLoader\n",
        "\n",
        "markdown_path = \"./documents/income_tax.md\"\n",
        "loader = UnstructuredMarkdownLoader(markdown_path)\n",
        "document_list = loader.load_and_split(text_splitter)"
      ]
    },
    {
      "cell_type": "code",
      "execution_count": 3,
      "metadata": {},
      "outputs": [
        {
          "data": {
            "text/plain": [
              "Document(metadata={'source': './documents/income_tax.md'}, page_content='간접투자자에게 지급자에 해당하여 제6조제1항 및 제57조제1항 제1호에 따른 국외법인에 해당하는 개인으로서 간접투자사업이 발생하는 것을 제외하는 구조로 투자적으로 보낼 것 다른 자본사업으로 납부할 것은 규정의 범위에 따라 외국법인에서의 경우 해당 세액을 포함하며, 이하 제1항에서 ‘간접투자외국세액’이라 한다.\\n\\n제1항을 적용할 때 거주자가 간접투자회사를 통해 지급받은 소득과 종합소득세법에 의해 공제되는 금액은 다음과 같이 한다.\\n\\n간접투자회사로부터 지급받은 소득: ‘자본시장과 금융투자업에 관한 법률’ 제23조제6항에 따른 기초자산(간접투자와의별임이나 대체가격)을 말하며, 이하 이 조 및 제29조제1항에서 “세액기준가격”이라 한다)기준으로 계산된 금액. 단, 증권시장에서 상장된 간접투자회사의 중립에 따라 간접투자회사의 지급받은 소득은 대통형별로 판단하여 계산한 금액으로 한다.\\n\\n종합소득산출세액에서 공제하는 금액: 간접투자국법인에서 세후기준가격을 고려하여 대통형별로 정하는 범위에 따라 계산한 금액\\n\\n제3항에 따라 종합소득산출세액에서 공제할 수 있는 금액은 다음 금액과 이하 함을 “공제한도금액”이라 한다. 이 경우 제1항제2호의 금액에 해당 하는 금액은 다음 과세기간은 개시일부터 10년 이내에 거쳐있는 과세기간으로 이힐여 그의 이월된 과세기간의 공제한도금액 내에 공제할 수 있다.\\n\\n공제한도금액 = A\\n\\n      B\\n\\nA: 제65조에 따라 계산한 당해 과세기간의 종합소득산출세액 B: 간접투자회사로부터 지급받은 소득(상기금액에 대해 간접투자국법인)\\n\\n제1항부터 제3항까지의 규정에 따른 간접투자회사 등으로부터 지급받은 소득의 계산방법, 그 밖에 세액공제에 필요한 사항은 대통령령으로 정한다. [본조신설 2022. 1. 31.] [시행일: 2022. 1. 1.] 제57조의2\\n\\n제58조(자산손실세액의귀증) 1. 사업자가 해당 과세기간에 천재지변이나 그 밖의 재해(이하 “재해”라 한다)로 대통령령으로 정하는 자산(이하 “자산손실”이라 한다)의 100물 이상에 해당하는 자산을 상실하여 납세 의무가 고지되는 경우에는 다음 각 호의 소득세(자산소득)에 대한 소득세를 말한다. 이 조의 조세와 같은 상실된 자산적 가치에 자산손실에서의 차액이 “자산상실비율”이라 한다는 의미에 거쳐 한 함(상실된 자산의 가치를 한도로 한다)고 시에 처제한다. 이 경우 자산의 가액에는 토지의 가액을 포함하지 아니한다. <개정 2020. 12. 29.>\\n\\n재해 발생일 전 부터 이내의 소득세로서 미비된 소득세액\\n\\n재해 발생일이 속하는 과세기간의 소득에 대한 소득세액\\n\\n제1항의 경우에 제56조 제60조 및 제57조에 따른 공제할 세액에 있을 때에는 이를 공제한 후의 예외를 소득세액으로 하여 적용한다.\\n\\n제1항에 따른 공제는 “재해손실세액공제”라 한다.\\n\\n자산손실세액공제를 적용받으려는 자는 대통령령으로 정하는 바에 따라 관한 세무서장에 신청할 수 있다. 관련 세무서장이 제58조의 신청을 받았을 때는 그 공제할 세액을 결정할 신청인데에 관해야 한다.')"
            ]
          },
          "execution_count": 3,
          "metadata": {},
          "output_type": "execute_result"
        }
      ],
      "source": [
        "document_list[43]"
      ]
    },
    {
      "cell_type": "markdown",
      "metadata": {},
      "source": [
        "- 마크다운 테이블을 활용하기 위해 `.md` -> `.txt`로 변환합니다"
      ]
    },
    {
      "cell_type": "code",
      "execution_count": 5,
      "metadata": {},
      "outputs": [
        {
          "name": "stdout",
          "output_type": "stream",
          "text": [
            "Note: you may need to restart the kernel to use updated packages.\n"
          ]
        },
        {
          "name": "stderr",
          "output_type": "stream",
          "text": [
            "\n",
            "[notice] A new release of pip is available: 24.0 -> 25.1.1\n",
            "[notice] To update, run: python.exe -m pip install --upgrade pip\n"
          ]
        }
      ],
      "source": [
        "%pip install -q markdown html2text beautifulsoup4"
      ]
    },
    {
      "cell_type": "code",
      "execution_count": 5,
      "metadata": {},
      "outputs": [
        {
          "name": "stdout",
          "output_type": "stream",
          "text": [
            "Markdown converted to plain text successfully!\n"
          ]
        }
      ],
      "source": [
        "import markdown\n",
        "from bs4 import BeautifulSoup\n",
        "\n",
        "text_path = './documents/income_tax.txt'\n",
        "\n",
        "# 마크다운 파일을 읽어옵니다\n",
        "with open(markdown_path, 'r', encoding='utf-8') as md_file:\n",
        "    md_content = md_file.read()\n",
        "\n",
        "# 마크다운 콘텐츠를 HTML로 변환합니다\n",
        "html_content = markdown.markdown(md_content)\n",
        "\n",
        "# HTML 콘텐츠를 파싱하여 텍스트만 추출합니다\n",
        "soup = BeautifulSoup(html_content, 'html.parser')\n",
        "text_content = soup.get_text()\n",
        "\n",
        "# 추출한 텍스트를 텍스트 파일로 저장합니다\n",
        "with open(text_path, 'w', encoding='utf-8') as txt_file:\n",
        "    txt_file.write(text_content)\n",
        "\n",
        "print(\"Markdown converted to plain text successfully!\")"
      ]
    },
    {
      "cell_type": "markdown",
      "metadata": {},
      "source": [
        "- `TextLoader`를 사용해 전처리된 데이터를 확인합니다"
      ]
    },
    {
      "cell_type": "code",
      "execution_count": 6,
      "metadata": {},
      "outputs": [],
      "source": [
        "from langchain_community.document_loaders import TextLoader\n",
        "\n",
        "loader = TextLoader(text_path, encoding=\"utf-8\")\n",
        "document_list = loader.load_and_split(text_splitter)"
      ]
    },
    {
      "cell_type": "code",
      "execution_count": 7,
      "metadata": {},
      "outputs": [
        {
          "data": {
            "text/plain": [
              "Document(metadata={'source': './documents/income_tax.txt'}, page_content='제46조(재산 등기에 대한 소득금액의 계수 특칙)\\n① 가족주택 제216조제1항제1호․제2호 및 제66조에 해당하는 채권 또는 증권자 단위에 의하여 담당론 그리고 No. 30에서 “채권”이라 하는 방법이온으로부터 해당 채권에서 발생하는 바는 동일한 경우라 할지라도 할 것입니다.(하여도) 제133조2 및 제156조2하고 제33조2와 “이자대”라 하는 바는 기준개인사업자의 주식집 관리․관사와 주식평범 재산의 보유 관리 및 신주로는기예치하는 일반의 법적 근거로 의하게 된다. 이를 특히 문서이상의 규명 과 같은 방법 및 제59조제이통제조문 제63조에 해당하는 채권의 주식으로 전환․상환되는 경우를 포함한다. 이하 간이자료가 해당 경우를 매끈(일 년의 질도 혹은 보님과 비례를 포망하여, 판매조사정과 하이클래스 조정에 대해 대응)한다.\\n소득세법\\n령역으로 정하는 경우는 제한한다. 이하 제133조2의1에 해당하는 경우에는 거주자에게 그 본유?관별로 귀속되는 이자소득 상응액을 해거주자의 제16조의2로 보아 소득입액을 계산한다. <개정> 2010. 12. 27, 2012. 1. 1, 2020. 12. 29>\\n① 제1항을 적용할 때 해당 거주자가 해당 채권을 보유한 기간을 대륙청령으로 정하는 바에 따라 임직원을 못 하는 경우에는 제133조2의1제1항에 의한 원천징수기간의 이자 상당액에 해당 거주자에게 귀속되는 것으로 보아 소득입액을 계산한다. <개정> 2010. 12. 27.\\n② 제1항 및 제2항에 따른 이자 상응액의 계산방법과 그 밖에 필요한 사항은 대륙청령으로 정한다.\\n[전문개정 2009. 12. 31.]\\n제46조(중도 해지로 인한 이자소득금의 계산상 특징)\\n거주자의 제16조제1항, 제2호, 제3호 및 제6조에 해당하는 채권 또는 중고 및 하위 단계의 양도가 가능한 증권으로서 대륙청령을 정하는 바에 의한 아, 제133조2의1 및 제156조의3의에 ‘채권’이라고 하면) 발행법인으로부터 해당 채권이 발생하는 이자 또는 할인이야 아고, 제133조2의1에 의한 제156조의3의에 ‘이자’라고 한다는 것이 지역정산서에 주식단체, 분산재산에 주식단체 및 신유지권에 해당할 때 신유지권과 금융투자업에 관한 법령, 제46조제3조 제3호 및 제3조의2에 해당하는 채권의 주식으로 전환 - 상환되는 경우를 포함한다. 이상의 각기 다른 제46조의 총이 종속으로 제칙으로 정의된 경우와 그 산호의 여신공여의 수금가의 변동이 있는 경우에 의하여 미로하여 수동 또는 환자근로자와 관리하거나 한다. <개정> 2010. 12. 27, 2012. 1. 1.  \\n③ 제1항을 적용할 때 해당 거주자가 해당 채권들을 보유한 기간을 대륙청령으로 정하는 바에 따라 임직원을 못 하는 경우에는 제133조2의1에 해당하는, 귀속되는 세액의 부분이 정해질 수 있다. 단, ‘국세기본법 제46조제1항에 따라 과세표준 및 세액의 결정(표준)을 청구하는 경우에는 그러하지 아니하다.\\n[전문개정 2009. 12. 31.]\\n제47조 근로소득증제 - 연금소득증제 및 퇴직소득증제\\n<개정> 2009. 12. 31.')"
            ]
          },
          "execution_count": 7,
          "metadata": {},
          "output_type": "execute_result"
        }
      ],
      "source": [
        "document_list[39]"
      ]
    },
    {
      "cell_type": "markdown",
      "metadata": {},
      "source": [
        "- 전처리된 데이터를 벡터화하기 위해 [Chroma](https://docs.trychroma.com/getting-started)를 활용합니다\n",
        "- LangChain과의 호환을 위해 [langchain-chroma](https://python.langchain.com/docs/integrations/vectorstores/chroma/)를 설치합니다"
      ]
    },
    {
      "cell_type": "code",
      "execution_count": 8,
      "metadata": {},
      "outputs": [
        {
          "name": "stdout",
          "output_type": "stream",
          "text": [
            "Note: you may need to restart the kernel to use updated packages.\n"
          ]
        },
        {
          "name": "stderr",
          "output_type": "stream",
          "text": [
            "\n",
            "[notice] A new release of pip is available: 24.0 -> 25.1.1\n",
            "[notice] To update, run: python.exe -m pip install --upgrade pip\n"
          ]
        }
      ],
      "source": [
        "%pip install -q langchain-chroma"
      ]
    },
    {
      "cell_type": "code",
      "execution_count": 9,
      "metadata": {},
      "outputs": [],
      "source": [
        "from langchain_openai import OpenAIEmbeddings\n",
        "\n",
        "embeddings = OpenAIEmbeddings(model='text-embedding-3-large')"
      ]
    },
    {
      "cell_type": "code",
      "execution_count": 10,
      "metadata": {},
      "outputs": [
        {
          "name": "stderr",
          "output_type": "stream",
          "text": [
            "Failed to send telemetry event ClientStartEvent: capture() takes 1 positional argument but 3 were given\n",
            "Failed to send telemetry event ClientCreateCollectionEvent: capture() takes 1 positional argument but 3 were given\n"
          ]
        }
      ],
      "source": [
        "from langchain_chroma import Chroma\n",
        "\n",
        "vector_store = Chroma.from_documents(\n",
        "    documents=document_list,\n",
        "    embedding=embeddings,\n",
        "    collection_name = 'income_tax_collection',\n",
        "    persist_directory = './income_tax_collection'\n",
        ")"
      ]
    },
    {
      "cell_type": "code",
      "execution_count": 11,
      "metadata": {},
      "outputs": [],
      "source": [
        "retriever = vector_store.as_retriever(search_kwargs={'k': 3})"
      ]
    },
    {
      "cell_type": "code",
      "execution_count": 12,
      "metadata": {},
      "outputs": [],
      "source": [
        "query = '연봉 5천만원 직장인의 소득세는?'"
      ]
    },
    {
      "cell_type": "code",
      "execution_count": 13,
      "metadata": {},
      "outputs": [
        {
          "name": "stderr",
          "output_type": "stream",
          "text": [
            "Failed to send telemetry event CollectionQueryEvent: capture() takes 1 positional argument but 3 were given\n"
          ]
        },
        {
          "data": {
            "text/plain": [
              "[Document(id='05ab494c-8405-4aab-b6ba-f15bf65f4213', metadata={'source': './documents/income_tax.txt'}, page_content='5년 이하: 30만원 → 납입연수\\n5년 초과 10년 이하: 150만원 + 50만원 × (납입연수 - 5년)\\n10년 초과 20년 이하: 400만원 + 80만원 × (납입연수 - 10년)\\n20년 초과: 1,200만원 + 120만원 × (납입연수 - 20년)\\n\\n② 직장근로자 초과관세환급금을 분배하여 지급받는 경우 세액의 계산 방법 등 필요한 사항은 대통령령으로 정한다. \\n<대통령 2014. 12. 23.>\\n<전문개정 2009. 12. 31.>\\n제64조(부동산매매업자에 대한 세액 계산의 특례)\\n1) 대통령령으로 정하는 부동산매매업(이하 “부동산매매업”이라 한다)을 영위하는 거주자가 이하 “부동산매매업자”라 한다)로서 종합소득세법에 제104조제1항제1호(본항을 포함한다) 및 제103조 또는 같은 조 제7항 각 호의 어느 하나에 해당하는 자산의 매매자익(이하 “주택등매매차익”이라 한다)이 있는 자의 종합소득 산출세액은 다음 각 호의 세액 중 많은 것으로 한다. \\n<개정 2014. 12. 23., 2017. 12. 19., 2020. 12. 29.>\\n1. 종합소득 산출세액\\n\\n다음 각 목에 따른 세액의 합계액\\n  가. 주택등매매차익에 따른 세율을 적용하여 산출한 세액의 합계액\\n  나. 종합소득세법 제55조에 따라 주택등매매차익에 대한 개별세액을 공제한 금액을 과세표준으로 하고 이에 제55조에 따른 세율을 적용하여 산출세액'),\n",
              " Document(id='d6660757-8f19-44f5-a5ac-6e4b0a3d3130', metadata={'source': './documents/income_tax.txt'}, page_content='이자소득에 대해서는 다음과 같이 규정하는 세율\\n가. 삭제<2017. 12. 19.>\\n나. 비영업대금의 이익에 대해서는 100분의 25. 단, ‘온라인투자연계금융업 및 이용자 보호에 관한 법률’ 제 법 금융위원회에 등록한 온라인투자연계금융업자를 통해 지급받는 이자소득에 대해서는 100분의 14 한다.\\n다. 제16조제1항제10호에 따른 직장공제기초발행금에 대해서는 기본세율\\n라. 그 밖의 이자소득에 대해서는 100분의 14\\n마. 배당소득에 대해서는 다음과 같이 규정하는 세율\\n바. 제17조제1항제8호에 따른 출자공동사업자의 배당소득에 대해서는 100분의 25\\n사. 그 밖의 배당소득에 대해서는 100분의 14\\n원천징수 대상 사업소득에 대해서는 100분의 3. 다만, 외국인 직업운동가가 한국프로스포츠산업법에 따른 스포츠 클럽 운영의 정 프로스포츠구단안에 계약(예외기간이 3년 이하인 경우로 한정한다)에 따라 종목을 제공하고 받는 소득에 대해서는 100분의 20으로 한다.\\n근로소득에 대해서는 기본세율. 다만, 임금근로자의 근로소득에 대해서는 100분의 6으로 한다.\\n공적연금소득에 대해서는 기본세율\\n제21조제3항제12호 및 제다목에 따른 연금계좌 말일에 운영실적에 따른 증가액을 연금소득변경 업소득에 대해서는 다음 각 목의 구분에 따른 세율. 이 경우 각 목의 요건을 동시에 충족하는 경우에 낮은 세율을 적용한다.\\n가. 연금소득자의 나이에 따른 다음의 세율\\n\\n| 나이(연금수령형태) | 세율          |\\n|----------------------|---------------|\\n| 70세 미만            | 10분의 5     |\\n| 70세 이상           | 80세 미만    | 10분의 4 |\\n| 80세 이상           | 10분의 3     |\\n\\n나. 삭제<2014. 12. 23.>\\n다. 사업할 때까지 연금수령으로 정하는 중신계약에 따라 받는 연금소득에 대해서는 100분의 4\\n제20조제3항제12호와 제13호에 따라 퇴직소득에 대해서는 다음 각 목의 구분에 따른 세율. 이 경우 연금 실세 수령과 및 연금수령 원천징수세율의 계정의 내용은 대출형으로 정한다.\\n가. 연금 실세 수령연차가 10년 미만인 경우: 연금수령 원천징수세율이 100분의 70\\n나. 연금 실세 수령연차가 10년을 초과하는 경우: 연금수령 원천징수세율이 100분의 60\\n기타소득에 대해서는 다음 규정하는 세율. 다만, 제8호를 적용하는 경우를 제외한다.\\n라. 제14조제1항제9호 및 마목에 해당하는 소득금액이 3억원을 초과하는 경우 그 초과하는 부분에 대해서는 100분의 30\\n제21조제1항제18호 및 제24조에 따른 기타소득에 대해서는 100분의 15\\n다. 삭제<2014. 12. 23.>\\n라. 그 밖의 기타소득에 대해서는 100분의 20\\n퇴직소득에 대해서는 기본세율\\n대통령령으로 정하는 봉사료에 대해서는 100분의 5'),\n",
              " Document(id='a9318bc2-ea84-4134-ac37-9aa8841bd991', metadata={'source': './documents/income_tax.txt'}, page_content='② 제70조제1항, 제70조의2에 따른 제74조에 따라 차례로 할 것이 제70조제1항제2호에 따르며 서류를 제출하여야 한다는 경우에는 기준소득 중 거주자 본인이 된다(분산)과 제70조제2와 제74조에 따른 제료 및 제대법을 포함한다. 단, 차별제표청정인 그 업체를 남겨 제출한 경우로 그에 대하여 아니하다.<개정 2013. 1. 1.>\\n  ③ 제80조에 따른 수익과 관련의 경우에는 기초공제 중 거주자 본인이 된다(분산)과 그에 관한 적지사항을 분명히 한다.\\n[전문개정 2009. 12. 31.]\\n[제목개정 2014. 1. 1.]\\n제54조의2(공동사업에 대한 소득공제 등 특례) 제51조의3 또는 「조세특례제한법」에 따른 소득공제를 적용하거나 제59조의2에 따른 세액감면을 적용하는 경우 제54조제3항에 따라 공동사업자의 소득에 합산과세되는 특별세액거래의 지출․납입․투자 등의 금액이 있을 경우 주된 공동사업자의 소득에 합산과세되는 소득금액에 합산되어 주된 공동사업자의 합산과세세액은 공동사업소득액 또는 공동사업창출세액을 계산할 때 소득공제 또는 세액공제를 받을 수 있다. \\n[개정 2014. 1. 1.]\\n[전문개정 2009. 12. 31.]\\n[제목개정 2014. 1. 1.]\\n제2절 세액의 계산 <개정 2009. 12. 31.>\\n제1관 세율 <개정 2009. 12. 31.>\\n제55조(세율) 거주자의 종합소득에 대한 소득세는 해당 연도의 종합소득과세표준에 다음의 세율을 적용하여 계산한 금액(이하 \"종합소득과세표준세액\"이라 한다)을 그 세액으로 한다. <개정 2014. 1. 1., 2016. 12. 20., 2017. 12. 19., 2020. 12. 29., 2022. 12. 31.>\\n종합소득\\n┌───────────────┐\\n│ 과세표준의 6개 구간 │\\n├───────────────┤\\n│ 1,400만원 이하        │ 84만원 + (1,400만원을 초과하는 금액의 15%)  │\\n│ 1,400만원 초과        │ 84만원 + (5,000만원을 초과하는 금액의 24%)  │\\n│ 8,800만원 이하        │ 624만원 + (5,000만원을 초과하는 금액의 24%)  │\\n│ 8,800만원 초과        │ 1,536만원 + (8,800만원을 초과하는 금액의 35%)  │\\n│ 1.5억원 초과          │ 4,046만원 + (1,500만원을 초과하는 금액의 38%)  │\\n│ 3억원 초과            │ 6,460만원 + (3억원을 초과하는 금액의 40%)  │\\n│ 5억원 초과            │ 14,760만원 + (5억원을 초과하는 금액의 42%)  │\\n│ 10억원 초과           │ 38,406만원 + (10억원을 초과하는 금액의 45%)  │\\n└───────────────┘\\n② 거주자의 퇴직소득에 대한 소득세는 다음 각 호의 순서에 따라 계산한 금액(이하 ‘퇴직소득 산출세액’이라 한다)으로 한다. <개정 2013. 1. 1., 2014. 12. 23.>')]"
            ]
          },
          "execution_count": 13,
          "metadata": {},
          "output_type": "execute_result"
        }
      ],
      "source": [
        "retriever.invoke(query)"
      ]
    },
    {
      "cell_type": "markdown",
      "metadata": {},
      "source": [
        "- `state`를 선언하고 에이전트를 생성합니다\n",
        "- 2.1강에서 진행한 것과 다르게 `messages` 커스텀 변수들을 선언합니다\n",
        "    - `query`는 사용자의 질문을 저장하는 용도로 사용합니다\n",
        "    - `context`는 벡터 스토어에서 추출한 데이터를 저장하는 용도로 사용합니다\n",
        "    - `answer`는 최종 응답을 저장하는 용도로 사용합니다"
      ]
    },
    {
      "cell_type": "code",
      "execution_count": 1,
      "metadata": {},
      "outputs": [],
      "source": [
        "from typing_extensions import List, TypedDict\n",
        "from langchain_core.documents import Document\n",
        "\n",
        "class AgentState(TypedDict):\n",
        "    query: str\n",
        "    context: List[Document]\n",
        "    answer: str"
      ]
    },
    {
      "cell_type": "code",
      "execution_count": 2,
      "metadata": {},
      "outputs": [],
      "source": [
        "from langgraph.graph import StateGraph\n",
        "\n",
        "graph_builder = StateGraph(AgentState)"
      ]
    },
    {
      "cell_type": "markdown",
      "metadata": {},
      "source": [
        "- `retrieve` 노드는 사용자의 질문을 받아 벡터 스토어에서 추출한 데이터를 반환합니다"
      ]
    },
    {
      "cell_type": "code",
      "execution_count": 3,
      "metadata": {},
      "outputs": [],
      "source": [
        "def retrieve(state: AgentState) -> AgentState:\n",
        "    \"\"\"\n",
        "    사용자의 질문에 기반하여 벡터 스토어에서 관련 문서를 검색합니다.\n",
        "\n",
        "    Args:\n",
        "        state (AgentState): 사용자의 질문을 포함한 에이전트의 현재 state.\n",
        "\n",
        "    Returns:\n",
        "        AgentState: 검색된 문서가 추가된 state를 반환합니다.\n",
        "    \"\"\"\n",
        "    query = state['query']  # state에서 사용자의 질문을 추출합니다.\n",
        "    docs = retriever.invoke(query)  # 질문과 관련된 문서를 검색합니다.\n",
        "    return {'context': docs}  # 검색된 문서를 포함한 state를 반환합니다."
      ]
    },
    {
      "cell_type": "markdown",
      "metadata": {},
      "source": [
        "- `LangChain`의 `hub`를 통해 미리 정의된 RAG 프롬프트를 활용합니다\n",
        "    - `hub`에는 이미 검증된 프롬프트들이 많기 때문에 프로젝트 진행 시 좋은 시작점이 됩니다\n",
        "    - `hub`에서 프롬프트를 찾아보고, 동작을 확인한 후 커스텀 하는 것을 권장합니다"
      ]
    },
    {
      "cell_type": "code",
      "execution_count": null,
      "metadata": {},
      "outputs": [
        {
          "name": "stderr",
          "output_type": "stream",
          "text": [
            "/Users/jasonkang/.pyenv/versions/3.12.2/envs/inflearn-langgraph-lecture/lib/python3.12/site-packages/langsmith/client.py:256: LangSmithMissingAPIKeyWarning: API key must be provided when using hosted LangSmith API\n",
            "  warnings.warn(\n"
          ]
        }
      ],
      "source": [
        "from langchain import hub\n",
        "from langchain_openai import ChatOpenAI\n",
        "prompt = hub.pull(\"rlm/rag-prompt\")\n",
        "llm = ChatOpenAI(model='gpt-4o')"
      ]
    },
    {
      "cell_type": "code",
      "execution_count": 5,
      "metadata": {},
      "outputs": [],
      "source": [
        "def generate(state: AgentState) -> AgentState:\n",
        "    \"\"\"\n",
        "    사용자의 질문과 검색된 문서를 기반으로 응답을 생성합니다.\n",
        "\n",
        "    Args:\n",
        "        state (AgentState): 사용자의 질문과 검색된 문서를 포함한 에이전트의 현재 state.\n",
        "\n",
        "    Returns:\n",
        "        AgentState: 생성된 응답이 추가된 state를 반환합니다.\n",
        "    \"\"\"\n",
        "    context = state['context']  # state에서 검색된 문서를 추출합니다.\n",
        "    query = state['query']  # state에서 사용자의 질문을 추출합니다.\n",
        "    rag_chain = prompt | llm  # RAG 프롬프트와 LLM을 연결하여 체인을 만듭니다.\n",
        "    response = rag_chain.invoke({'question': query, 'context': context})  # 질문과 문맥을 사용하여 응답을 생성합니다.\n",
        "    return {'answer': response}  # 생성된 응답을 포함한 state를 반환합니다."
      ]
    },
    {
      "cell_type": "markdown",
      "metadata": {},
      "source": [
        "- `node`를 추가하고 `edge`로 연결합니다"
      ]
    },
    {
      "cell_type": "code",
      "execution_count": 6,
      "metadata": {},
      "outputs": [
        {
          "data": {
            "text/plain": [
              "<langgraph.graph.state.StateGraph at 0x10daf72c0>"
            ]
          },
          "execution_count": 6,
          "metadata": {},
          "output_type": "execute_result"
        }
      ],
      "source": [
        "graph_builder.add_node('retrieve', retrieve)\n",
        "graph_builder.add_node('generate', generate)"
      ]
    },
    {
      "cell_type": "code",
      "execution_count": 7,
      "metadata": {},
      "outputs": [
        {
          "data": {
            "text/plain": [
              "<langgraph.graph.state.StateGraph at 0x10daf72c0>"
            ]
          },
          "execution_count": 7,
          "metadata": {},
          "output_type": "execute_result"
        }
      ],
      "source": [
        "from langgraph.graph import START, END\n",
        "\n",
        "graph_builder.add_edge(START, 'retrieve')\n",
        "graph_builder.add_edge('retrieve', 'generate')\n",
        "graph_builder.add_edge('generate', END)"
      ]
    },
    {
      "cell_type": "code",
      "execution_count": 8,
      "metadata": {},
      "outputs": [],
      "source": [
        "graph = graph_builder.compile()"
      ]
    },
    {
      "cell_type": "code",
      "execution_count": 9,
      "metadata": {},
      "outputs": [
        {
          "data": {
            "image/png": "[encoded data removed]",
            "text/plain": [
              "<IPython.core.display.Image object>"
            ]
          },
          "metadata": {},
          "output_type": "display_data"
        }
      ],
      "source": [
        "from IPython.display import Image, display\n",
        "\n",
        "display(Image(graph.get_graph().draw_mermaid_png()))"
      ]
    },
    {
      "cell_type": "markdown",
      "metadata": {},
      "source": [
        "- 병렬처리나 `conditional_edge`가 없는 경우 `add_sequence()`를 통해 순차적으로 동작하는 그래프를 생성할 수 있습니다"
      ]
    },
    {
      "cell_type": "code",
      "execution_count": 10,
      "metadata": {},
      "outputs": [],
      "source": [
        "sequence_graph_builder = StateGraph(AgentState).add_sequence([retrieve, generate])"
      ]
    },
    {
      "cell_type": "code",
      "execution_count": 11,
      "metadata": {},
      "outputs": [
        {
          "data": {
            "text/plain": [
              "<langgraph.graph.state.StateGraph at 0x10ebde360>"
            ]
          },
          "execution_count": 11,
          "metadata": {},
          "output_type": "execute_result"
        }
      ],
      "source": [
        "sequence_graph_builder.add_edge(START, 'retrieve')\n",
        "sequence_graph_builder.add_edge('generate', END)"
      ]
    },
    {
      "cell_type": "code",
      "execution_count": 12,
      "metadata": {},
      "outputs": [],
      "source": [
        "sequence_graph = sequence_graph_builder.compile()"
      ]
    },
    {
      "cell_type": "code",
      "execution_count": 13,
      "metadata": {},
      "outputs": [
        {
          "data": {
            "image/png": "[encoded data removed]",
            "text/plain": [
              "<IPython.core.display.Image object>"
            ]
          },
          "metadata": {},
          "output_type": "display_data"
        }
      ],
      "source": [
        "display(Image(sequence_graph.get_graph().draw_mermaid_png()))"
      ]
    },
    {
      "cell_type": "code",
      "execution_count": null,
      "metadata": {},
      "outputs": [],
      "source": [
        "initial_state = {'query': query}\n",
        "graph.invoke(initial_state)"
      ]
    },
    {
      "cell_type": "code",
      "execution_count": null,
      "metadata": {},
      "outputs": [],
      "source": []
    }
  ],
  "metadata": {
    "kernelspec": {
      "display_name": ".venv",
      "language": "python",
      "name": "python3"
    },
    "language_info": {
      "codemirror_mode": {
        "name": "ipython",
        "version": 3
      },
      "file_extension": ".py",
      "mimetype": "text/x-python",
      "name": "python",
      "nbconvert_exporter": "python",
      "pygments_lexer": "ipython3",
      "version": "3.12.2"
    }
  },
  "nbformat": 4,
  "nbformat_minor": 2
}
